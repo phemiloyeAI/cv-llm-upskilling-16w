{
 "cells": [
  {
   "cell_type": "code",
   "execution_count": 1,
   "id": "28a4f3f8",
   "metadata": {},
   "outputs": [],
   "source": [
    "import torch \n",
    "import torch.nn as nn\n",
    "import numpy as np\n",
    "import torch.nn.functional as F"
   ]
  },
  {
   "cell_type": "code",
   "execution_count": 3,
   "id": "1d68abed",
   "metadata": {},
   "outputs": [],
   "source": [
    "def flash_attention(Q, K, V):\n",
    "    # Step 1: Compute scaled dot-product QK^T in chunks\n",
    "    chunk_size = 64  # Example chunk size, tune this based on your GPU's memory capacity\n",
    "    num_chunks = Q.size(1) // chunk_size\n",
    "\n",
    "    outputs = []\n",
    "    for i in range(num_chunks):\n",
    "        start = i * chunk_size\n",
    "        end = start + chunk_size\n",
    "        # Compute QK^T for the current chunk\n",
    "        chunk_attention = torch.matmul(Q[:, start:end, :], K.transpose(-2, -1))\n",
    "        # Apply softmax and scale (adjust for numerical stability)\n",
    "        chunk_attention = F.softmax(chunk_attention / torch.sqrt(Q.size(-1)), dim=-1)\n",
    "        # Store output of the current chunk\n",
    "        outputs.append(torch.matmul(chunk_attention, V[:, start:end, :]))\n",
    "\n",
    "    return torch.cat(outputs, dim=1)\n",
    "\n",
    "# Example input tensors (Q, K, V)\n",
    "Q = torch.randn(2, 256, 64)  # Batch of 2, sequence length of 256, embedding size of 64\n",
    "K = Q.clone()\n",
    "V = Q.clone()\n",
    "\n",
    "# Perform Flash Attention\n",
    "# output = flash_attention(Q, K, V)"
   ]
  },
  {
   "cell_type": "code",
   "execution_count": null,
   "id": "25e7862d",
   "metadata": {},
   "outputs": [],
   "source": []
  }
 ],
 "metadata": {
  "kernelspec": {
   "display_name": "base",
   "language": "python",
   "name": "python3"
  },
  "language_info": {
   "codemirror_mode": {
    "name": "ipython",
    "version": 3
   },
   "file_extension": ".py",
   "mimetype": "text/x-python",
   "name": "python",
   "nbconvert_exporter": "python",
   "pygments_lexer": "ipython3",
   "version": "3.12.2"
  }
 },
 "nbformat": 4,
 "nbformat_minor": 5
}
